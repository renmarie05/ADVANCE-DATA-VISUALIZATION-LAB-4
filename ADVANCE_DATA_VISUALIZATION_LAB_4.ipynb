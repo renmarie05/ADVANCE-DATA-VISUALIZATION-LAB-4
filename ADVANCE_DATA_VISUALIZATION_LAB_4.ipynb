{
  "nbformat": 4,
  "nbformat_minor": 0,
  "metadata": {
    "colab": {
      "provenance": [],
      "authorship_tag": "ABX9TyM38Ctn4DZJCVPkbhZPpoUk",
      "include_colab_link": true
    },
    "kernelspec": {
      "name": "python3",
      "display_name": "Python 3"
    },
    "language_info": {
      "name": "python"
    }
  },
  "cells": [
    {
      "cell_type": "markdown",
      "metadata": {
        "id": "view-in-github",
        "colab_type": "text"
      },
      "source": [
        "<a href=\"https://colab.research.google.com/github/renmarie05/ADVANCE-DATA-VISUALIZATION-LAB-4/blob/main/ADVANCE_DATA_VISUALIZATION_LAB_4.ipynb\" target=\"_parent\"><img src=\"https://colab.research.google.com/assets/colab-badge.svg\" alt=\"Open In Colab\"/></a>"
      ]
    },
    {
      "cell_type": "code",
      "source": [
        " num1 = input(\"Enter the first number:\")\n",
        "num2 = input(\"Enter the second number:\")\n",
        "\n",
        "sum = float(num1) + float(num2)\n",
        "print(\"Sum: {0} + {1} = {2}\".format(num1, num2,sum))"
      ],
      "metadata": {
        "id": "PMvy0hjFZNHV",
        "colab": {
          "base_uri": "https://localhost:8080/"
        },
        "outputId": "5605bd85-ddeb-418c-cd2b-7e901bb1b5b4"
      },
      "execution_count": 5,
      "outputs": [
        {
          "output_type": "stream",
          "name": "stdout",
          "text": [
            "Enter the first number:12\n",
            "Enter the second number:23\n",
            "Sum: 12 + 23 = 35.0\n"
          ]
        }
      ]
    },
    {
      "cell_type": "code",
      "source": [
        "num1 = input(\"Enter the first number:\")\n",
        "num2 = input(\"Enter the second number:\")\n",
        "\n",
        "difference = float(num1) - float(num2)\n",
        "print(\"Sum: {0} - {1} = {2}\".format(num1, num2,difference))"
      ],
      "metadata": {
        "colab": {
          "base_uri": "https://localhost:8080/"
        },
        "id": "LCYgEr3ugXXW",
        "outputId": "fe2739a7-10d8-41a4-d3bc-51053722a7af"
      },
      "execution_count": 6,
      "outputs": [
        {
          "output_type": "stream",
          "name": "stdout",
          "text": [
            "Enter the first number:12\n",
            "Enter the second number:23\n",
            "Sum: 12 - 23 = -11.0\n"
          ]
        }
      ]
    },
    {
      "cell_type": "code",
      "source": [
        "num1 = input(\"Enter the first number:\")\n",
        "num2 = input(\"Enter the second number:\")\n",
        "\n",
        "product = float(num1) *float(num2)\n",
        "print(\"Sum: {0} * {1} = {2}\".format(num1, num2,product))"
      ],
      "metadata": {
        "colab": {
          "base_uri": "https://localhost:8080/"
        },
        "id": "sNBDj_7Ygrlv",
        "outputId": "d684a2e0-3ab5-4cb2-af75-ffd7c2b04088"
      },
      "execution_count": 7,
      "outputs": [
        {
          "output_type": "stream",
          "name": "stdout",
          "text": [
            "Enter the first number:12\n",
            "Enter the second number:23\n",
            "Sum: 12 * 23 = 276.0\n"
          ]
        }
      ]
    },
    {
      "cell_type": "code",
      "source": [
        "num1 = input(\"Enter the first number:\")\n",
        "num2 = input(\"Enter the second number:\")\n",
        "\n",
        "quotient = float(num1) / float(num2)\n",
        "print(\"Sum: {0} / {1} = {2}\".format(num1, num2,quotient))"
      ],
      "metadata": {
        "id": "LFv7nc8lYwOB",
        "colab": {
          "base_uri": "https://localhost:8080/"
        },
        "outputId": "b722c9da-4a59-454a-bbdb-9591dac17913"
      },
      "execution_count": 8,
      "outputs": [
        {
          "output_type": "stream",
          "name": "stdout",
          "text": [
            "Enter the first number:12\n",
            "Enter the second number:23\n",
            "Sum: 12 / 23 = 0.5217391304347826\n"
          ]
        }
      ]
    },
    {
      "cell_type": "code",
      "source": [
        "num1 = input(\"Enter the first number:\")\n",
        "num2 = input(\"Enter the second number:\")\n",
        "\n",
        "power = float(num1) ** float(num2)\n",
        "print(\"Sum: {0} * {1} = {2}\".format(num1, num2,power))"
      ],
      "metadata": {
        "colab": {
          "base_uri": "https://localhost:8080/"
        },
        "id": "xTor7d6VhLi1",
        "outputId": "047821b0-a121-401f-e282-a647732cd664"
      },
      "execution_count": 16,
      "outputs": [
        {
          "output_type": "stream",
          "name": "stdout",
          "text": [
            "Enter the first number:12\n",
            "Enter the second number:23\n",
            "Sum: 12 * 23 = 6.624737266949237e+24\n"
          ]
        }
      ]
    },
    {
      "cell_type": "code",
      "source": [
        "num1 = input(\"Enter the first number:\")\n",
        "num2 = input(\"Enter the second number:\")\n",
        "\n",
        "remainder = float(num1) % float(num2)\n",
        "print('Division with remaider: {0} / {1} = 0.0\\n Remainder: {2}'.format(num1, num2,remainder))"
      ],
      "metadata": {
        "colab": {
          "base_uri": "https://localhost:8080/"
        },
        "id": "zbLBvFGcnGLB",
        "outputId": "c1ab3354-b17a-470a-8653-518685a90a85"
      },
      "execution_count": 18,
      "outputs": [
        {
          "output_type": "stream",
          "name": "stdout",
          "text": [
            "Enter the first number:12\n",
            "Enter the second number:23\n",
            "Division with remaider: 12 / 23 = 0.0\n",
            " Remainder: 12.0\n"
          ]
        }
      ]
    }
  ]
}